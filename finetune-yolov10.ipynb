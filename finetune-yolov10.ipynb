{
 "cells": [
  {
   "cell_type": "code",
   "execution_count": null,
   "id": "cd1b2eb5-9b25-42d2-9649-c9888c39c153",
   "metadata": {},
   "outputs": [],
   "source": [
    "!nvidia-smi"
   ]
  },
  {
   "cell_type": "code",
   "execution_count": null,
   "id": "ad622c82-946a-4099-9ffa-8c3e6c680af2",
   "metadata": {},
   "outputs": [],
   "source": [
    "import os\n",
    "HOME = os.getcwd()\n",
    "print(HOME)"
   ]
  },
  {
   "cell_type": "code",
   "execution_count": null,
   "id": "11e2e8d6-9117-40f3-91c3-61e4e819079a",
   "metadata": {},
   "outputs": [],
   "source": [
    "!pip install -v supervision"
   ]
  },
  {
   "cell_type": "code",
   "execution_count": null,
   "id": "4888b06f-5df7-4369-bd26-0b0f992c1089",
   "metadata": {},
   "outputs": [],
   "source": [
    "!pip install -q git+https://github.com/THU-MIG/yolov10.git"
   ]
  },
  {
   "cell_type": "code",
   "execution_count": null,
   "id": "953f267c-ff48-4e43-bb9b-d4b53ad7c874",
   "metadata": {},
   "outputs": [],
   "source": [
    "# Create a directory for the weights\n",
    "!mkdir -p /path/to/store/weights\n",
    "\n",
    "# Download the weights using wget\n",
    "!wget -P /path/to/store/weights -q https://github.com/THU-MIG/yolov10/releases/download/v1.1/yolov10n.pt\n",
    "!wget -P /path/to/store/weights -q https://github.com/THU-MIG/yolov10/releases/download/v1.1/yolov10s.pt\n",
    "!wget -P /path/to/store/weights -q https://github.com/THU-MIG/yolov10/releases/download/v1.1/yolov10m.pt\n",
    "!wget -P /path/to/store/weights -q https://github.com/THU-MIG/yolov10/releases/download/v1.1/yolov10b.pt\n",
    "!wget -P /path/to/store/weights -q https://github.com/THU-MIG/yolov10/releases/download/v1.1/yolov10l.pt\n",
    "!wget -P /path/to/store/weights -q https://github.com/THU-MIG/yolov10/releases/download/v1.1/yolov10x.pt"
   ]
  },
  {
   "cell_type": "code",
   "execution_count": null,
   "id": "49bde346-9cc7-4a48-adc7-56514dbc847a",
   "metadata": {},
   "outputs": [],
   "source": [
    "!ls -lh /path/to/store/weights"
   ]
  },
  {
   "cell_type": "code",
   "execution_count": null,
   "id": "6d945d39-88c6-4780-984d-f8dcc81dc21b",
   "metadata": {},
   "outputs": [],
   "source": [
    "from IPython.display import Image\n",
    "Image(filename='path/to/image', height=600)"
   ]
  },
  {
   "cell_type": "code",
   "execution_count": null,
   "id": "28873d2a-d756-43b1-b823-780be1062440",
   "metadata": {},
   "outputs": [],
   "source": [
    "!pip install huggingface_hub"
   ]
  },
  {
   "cell_type": "code",
   "execution_count": null,
   "id": "9ecb20ea-5172-475a-9783-ae5ab344235b",
   "metadata": {},
   "outputs": [],
   "source": [
    "# Run the YOLO detection command\n",
    "!yolo task=detect mode=predict conf=0.25 save=true model=weights/yolov10s.pt source=path/to/image"
   ]
  },
  {
   "cell_type": "code",
   "execution_count": null,
   "id": "d6c88251-0b77-498e-80fd-4612bb308feb",
   "metadata": {},
   "outputs": [],
   "source": [
    "from ultralytics import YOLOv10\n",
    "model = YOLOv10(f'/path/to/store/weights')\n",
    "results = model(source=f'path/to/image', conf=0.25)"
   ]
  },
  {
   "cell_type": "code",
   "execution_count": null,
   "id": "e91b35aa-7dd0-4881-b081-467f9f0af48b",
   "metadata": {},
   "outputs": [],
   "source": [
    "print(results[0].boxes.xyxy)\n",
    "print(results[0].boxes.conf)\n",
    "print(results[0].boxes.cls)"
   ]
  },
  {
   "cell_type": "code",
   "execution_count": null,
   "id": "4400f9af-845e-46a6-aa64-648f0a709738",
   "metadata": {},
   "outputs": [],
   "source": [
    "import cv2\n",
    "import supervision as sv\n",
    "from ultralytics import YOLOv10\n",
    "\n",
    "model = YOLOv10(f'/path/to/store/weights')\n",
    "image = cv2.imread(f'path/to/image')\n",
    "results = model(image) [0]\n",
    "detections = sv.Detections.from_ultralytics(results)\n",
    "\n",
    "bounding_box_annotator = sv.BoxAnnotator()\n",
    "label_annotator = sv.LabelAnnotator()\n",
    "\n",
    "annotated_image = bounding_box_annotator.annotate(\n",
    "     scene=image, detections=detections)\n",
    "annotated_image = label_annotator.annotate(\n",
    "     scene=annotated_image, detections=detections)\n",
    "\n",
    "sv.plot_image(annotated_image)"
   ]
  },
  {
   "cell_type": "code",
   "execution_count": null,
   "id": "b8759cbd-b2f6-43d0-901a-95064b1011df",
   "metadata": {},
   "outputs": [],
   "source": [
    "!pip install roboflow"
   ]
  },
  {
   "cell_type": "code",
   "execution_count": null,
   "id": "71329b53-03b9-45cf-a175-99df1c416720",
   "metadata": {},
   "outputs": [],
   "source": [
    "!yolo task=detect mode=train epochs=25 batch=8 plots=True \\\n",
    "model=/path/to/store/weights \\\n",
    "data=path/to/datayamlfile"
   ]
  },
  {
   "cell_type": "code",
   "execution_count": null,
   "id": "f518ba82-6689-4f2d-be47-580ed2295196",
   "metadata": {},
   "outputs": [],
   "source": []
  }
 ],
 "metadata": {
  "kernelspec": {
   "display_name": "Python 3 (ipykernel)",
   "language": "python",
   "name": "python3"
  },
  "language_info": {
   "codemirror_mode": {
    "name": "ipython",
    "version": 3
   },
   "file_extension": ".py",
   "mimetype": "text/x-python",
   "name": "python",
   "nbconvert_exporter": "python",
   "pygments_lexer": "ipython3",
   "version": "3.12.4"
  }
 },
 "nbformat": 4,
 "nbformat_minor": 5
}
